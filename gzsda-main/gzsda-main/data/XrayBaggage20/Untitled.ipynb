{
 "cells": [
  {
   "cell_type": "code",
   "execution_count": 2,
   "id": "5586d7f9",
   "metadata": {},
   "outputs": [],
   "source": [
    "import pandas as pd\n"
   ]
  },
  {
   "cell_type": "code",
   "execution_count": 3,
   "id": "e87fb173",
   "metadata": {},
   "outputs": [
    {
     "name": "stderr",
     "output_type": "stream",
     "text": [
      "<ipython-input-3-e6f2c87a6a22>:1: DtypeWarning: Columns (2,6,7,12,13,14) have mixed types. Specify dtype option on import or set low_memory=False.\n",
      "  df=pd.read_csv('/data/datacenter/H3C_GPU/projects/yuchen/total_new.csv')\n"
     ]
    }
   ],
   "source": [
    "df=pd.read_csv('/data/datacenter/H3C_GPU/projects/yuchen/total_new.csv')"
   ]
  },
  {
   "cell_type": "code",
   "execution_count": null,
   "id": "f32f0c8c",
   "metadata": {},
   "outputs": [],
   "source": []
  }
 ],
 "metadata": {
  "kernelspec": {
   "display_name": "Python 3",
   "language": "python",
   "name": "python3"
  },
  "language_info": {
   "codemirror_mode": {
    "name": "ipython",
    "version": 3
   },
   "file_extension": ".py",
   "mimetype": "text/x-python",
   "name": "python",
   "nbconvert_exporter": "python",
   "pygments_lexer": "ipython3",
   "version": "3.8.10"
  }
 },
 "nbformat": 4,
 "nbformat_minor": 5
}
